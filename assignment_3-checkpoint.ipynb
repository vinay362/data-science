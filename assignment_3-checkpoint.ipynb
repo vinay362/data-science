{
 "cells": [
  {
   "cell_type": "markdown",
   "id": "cc9db0ab",
   "metadata": {},
   "source": [
    "# sol(1)\n",
    "\n",
    "Advantages of having functions:\n",
    "Functions reduce the need for duplicate code. This makes programs shorter, easier to read, and easier to update"
   ]
  },
  {
   "cell_type": "markdown",
   "id": "ae44005e",
   "metadata": {},
   "source": [
    "# sol(2)\n",
    "\n",
    "Code in the function runs when the function is called"
   ]
  },
  {
   "cell_type": "markdown",
   "id": "43cd7ef1",
   "metadata": {},
   "source": [
    "# sol(3)\n",
    "The def statement defines (i.e. creates) a function.\n",
    "Eg .\n",
    "\n",
    "def my_func():\n",
    "\n",
    "pass\n"
   ]
  },
  {
   "cell_type": "markdown",
   "id": "96cd5858",
   "metadata": {},
   "source": [
    "# sol(4)\n",
    "a function is a block of code that performs a specific task, while a function call is an expression that invokes a function and executes the code in the function"
   ]
  },
  {
   "cell_type": "markdown",
   "id": "e11010b2",
   "metadata": {},
   "source": [
    "# sol(5)\n",
    "There's only one global Python scope per program execution. This scope remains in existence until the program terminates , and a local scope is created whenever a function is called."
   ]
  },
  {
   "cell_type": "markdown",
   "id": "e09a2a72",
   "metadata": {},
   "source": [
    "\n",
    "# sol(6)\n",
    "When a function returns, the local scope is destroyed."
   ]
  },
  {
   "cell_type": "markdown",
   "id": "fa41018f",
   "metadata": {},
   "source": [
    "# sol(7)\n",
    " A return value is the value that a function call evaluates to. Like any value, a return value can be used as part of an expression."
   ]
  },
  {
   "cell_type": "markdown",
   "id": "b4b7370b",
   "metadata": {},
   "source": [
    "# sol(8)\n",
    "If the funtion does not have a return statement it will not return anything."
   ]
  },
  {
   "cell_type": "markdown",
   "id": "dd0b014d",
   "metadata": {},
   "source": [
    "# sol(9)\n",
    "\n",
    "To make function variable as a global variable you can use the global keyword to declare which variables are global.\n",
    "\n"
   ]
  },
  {
   "cell_type": "markdown",
   "id": "647866a4",
   "metadata": {},
   "source": [
    "# sol(10)\n",
    "the data  type of none is nonetype.\n"
   ]
  },
  {
   "cell_type": "markdown",
   "id": "bb7d9155",
   "metadata": {},
   "source": [
    "# sol(11)\n",
    "That import statement imports a module named areallyourpetsnamederic. (But a module of this name doesnt exists in Python)"
   ]
  },
  {
   "cell_type": "markdown",
   "id": "8e0a8839",
   "metadata": {},
   "source": [
    "# sol(12)\n",
    ".import spam\n",
    "spam.bacon()"
   ]
  },
  {
   "cell_type": "markdown",
   "id": "00ba58d6",
   "metadata": {},
   "source": [
    "# sol(13)\n",
    "We can use try except clause to save a program from crashing."
   ]
  },
  {
   "cell_type": "markdown",
   "id": "7fef7ffd",
   "metadata": {},
   "source": [
    "# sol(14)\n",
    "Try and Except clause is used to handle the errors within our code . The try block is used to check some code for errors i.e the code inside the try block will execute when there is no error in the program. Whereas the code inside the except block will execute whenever the program encounters some error in the try block."
   ]
  },
  {
   "cell_type": "code",
   "execution_count": null,
   "id": "8466bfab",
   "metadata": {},
   "outputs": [],
   "source": []
  }
 ],
 "metadata": {
  "kernelspec": {
   "display_name": "Python 3 (ipykernel)",
   "language": "python",
   "name": "python3"
  },
  "language_info": {
   "codemirror_mode": {
    "name": "ipython",
    "version": 3
   },
   "file_extension": ".py",
   "mimetype": "text/x-python",
   "name": "python",
   "nbconvert_exporter": "python",
   "pygments_lexer": "ipython3",
   "version": "3.11.4"
  }
 },
 "nbformat": 4,
 "nbformat_minor": 5
}
