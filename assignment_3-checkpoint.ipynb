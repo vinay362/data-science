{
 "cells": [
  {
   "cell_type": "markdown",
   "id": "027ca282",
   "metadata": {},
   "source": [
    "# sol(1)\n",
    "\n",
    "Advantages of having functions:\n",
    "Functions reduce the need for duplicate code. This makes programs shorter, easier to read, and easier to update"
   ]
  },
  {
   "cell_type": "markdown",
   "id": "3cce0567",
   "metadata": {},
   "source": [
    "# sol(2)\n",
    "\n",
    "Code in the function runs when the function is called"
   ]
  },
  {
   "cell_type": "markdown",
   "id": "4b7ea14b",
   "metadata": {},
   "source": [
    "# sol(3)\n",
    "The def statement defines (i.e. creates) a function.\n",
    "Eg .\n",
    "\n",
    "def my_func():\n",
    "\n",
    "pass\n"
   ]
  },
  {
   "cell_type": "markdown",
   "id": "62a867d2",
   "metadata": {},
   "source": [
    "# sol(4)\n",
    "a function is a block of code that performs a specific task, while a function call is an expression that invokes a function and executes the code in the function"
   ]
  },
  {
   "cell_type": "markdown",
   "id": "f3221efa",
   "metadata": {},
   "source": [
    "# sol(5)\n",
    "There's only one global Python scope per program execution. This scope remains in existence until the program terminates , and a local scope is created whenever a function is called."
   ]
  },
  {
   "cell_type": "markdown",
   "id": "336fb123",
   "metadata": {},
   "source": [
    "\n",
    "# sol(6)\n",
    "When a function returns, the local scope is destroyed."
   ]
  },
  {
   "cell_type": "markdown",
   "id": "0055f038",
   "metadata": {},
   "source": [
    "# sol(7)\n",
    " A return value is the value that a function call evaluates to. Like any value, a return value can be used as part of an expression."
   ]
  },
  {
   "cell_type": "markdown",
   "id": "dea545d6",
   "metadata": {},
   "source": [
    "# "
   ]
  }
 ],
 "metadata": {
  "kernelspec": {
   "display_name": "Python 3 (ipykernel)",
   "language": "python",
   "name": "python3"
  },
  "language_info": {
   "codemirror_mode": {
    "name": "ipython",
    "version": 3
   },
   "file_extension": ".py",
   "mimetype": "text/x-python",
   "name": "python",
   "nbconvert_exporter": "python",
   "pygments_lexer": "ipython3",
   "version": "3.11.4"
  }
 },
 "nbformat": 4,
 "nbformat_minor": 5
}
