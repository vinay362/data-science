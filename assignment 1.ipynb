{
 "cells": [
  {
   "cell_type": "code",
   "execution_count": null,
   "id": "c8a57b05",
   "metadata": {},
   "outputs": [],
   "source": []
  },
  {
   "cell_type": "markdown",
   "id": "024b7df0",
   "metadata": {},
   "source": [
    "#  1\n",
    "*       expression\n",
    "'hello' value\n",
    "-87.8   value\n",
    "-       expression\n",
    "/       expression\n",
    "+       expresiion\n",
    "6       value"
   ]
  },
  {
   "cell_type": "markdown",
   "id": "8c6beb06",
   "metadata": {},
   "source": [
    "# 2\n",
    "Variables are symbols that you can use to store data in a program. You can think of them as an empty box that you fill with some data or value. Strings are data, so we can use them to fill up a variable."
   ]
  },
  {
   "cell_type": "markdown",
   "id": "e21b1a84",
   "metadata": {},
   "source": [
    "# 3\n",
    "tring (str or text)\n",
    "Boolean (bool)\tT\n",
    "Enumerated type (enum)"
   ]
  },
  {
   "cell_type": "markdown",
   "id": "96039492",
   "metadata": {},
   "source": [
    "\n",
    "#  4\n",
    "An expression is a construct made up of variables, operators, and method invocations, which are constructed according to the syntax of the language, that evaluates to a single value."
   ]
  },
  {
   "cell_type": "markdown",
   "id": "ac129b0d",
   "metadata": {},
   "source": [
    "#  5\n",
    "Expressions can be assigned or used as operands, while statements can only be declared\n"
   ]
  },
  {
   "cell_type": "code",
   "execution_count": 11,
   "id": "944a7d59",
   "metadata": {},
   "outputs": [
    {
     "data": {
      "text/plain": [
       "23"
      ]
     },
     "execution_count": 11,
     "metadata": {},
     "output_type": "execute_result"
    }
   ],
   "source": [
    "# 6\n",
    "bacon =22\n",
    "bacon+1"
   ]
  },
  {
   "cell_type": "markdown",
   "id": "3bff357a",
   "metadata": {},
   "source": [
    "# 7\n",
    "spam spamspam\n",
    "spamspamspam"
   ]
  },
  {
   "cell_type": "markdown",
   "id": "ee3b84e5",
   "metadata": {},
   "source": [
    "# 8\n",
    "Because variable names cannot begin with a number."
   ]
  },
  {
   "cell_type": "markdown",
   "id": "c9d753ff",
   "metadata": {},
   "source": [
    "# 9\n",
    " int() , float() , and str( )"
   ]
  },
  {
   "cell_type": "code",
   "execution_count": 9,
   "id": "f217f19b",
   "metadata": {},
   "outputs": [
    {
     "name": "stdout",
     "output_type": "stream",
     "text": [
      "I have eaten 39  burritos.\n"
     ]
    }
   ],
   "source": [
    "print('I have eaten',39,' burritos.')\n",
    "      #&#39;I have eaten &#39; + 99 + &#39; burritos.&#39;"
   ]
  },
  {
   "cell_type": "code",
   "execution_count": 10,
   "id": "c1958744",
   "metadata": {},
   "outputs": [
    {
     "name": "stdout",
     "output_type": "stream",
     "text": [
      "spamspamspam\n"
     ]
    }
   ],
   "source": [
    "print('spam'*3)"
   ]
  },
  {
   "cell_type": "code",
   "execution_count": null,
   "id": "a560655b",
   "metadata": {},
   "outputs": [],
   "source": []
  }
 ],
 "metadata": {
  "kernelspec": {
   "display_name": "Python 3 (ipykernel)",
   "language": "python",
   "name": "python3"
  },
  "language_info": {
   "codemirror_mode": {
    "name": "ipython",
    "version": 3
   },
   "file_extension": ".py",
   "mimetype": "text/x-python",
   "name": "python",
   "nbconvert_exporter": "python",
   "pygments_lexer": "ipython3",
   "version": "3.11.4"
  }
 },
 "nbformat": 4,
 "nbformat_minor": 5
}
