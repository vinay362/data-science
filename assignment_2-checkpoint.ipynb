{
 "cells": [
  {
   "cell_type": "markdown",
   "id": "58f4a323",
   "metadata": {},
   "source": [
    "# sol(1)\n",
    "true (1) or false (0).\n"
   ]
  },
  {
   "cell_type": "markdown",
   "id": "db5858e2",
   "metadata": {},
   "source": [
    "# sol(2)\n",
    "Boolean operators are  \"AND\", \"OR\" and \"NOT\".\n"
   ]
  },
  {
   "cell_type": "markdown",
   "id": "864855b9",
   "metadata": {},
   "source": [
    "# sol(3)\n",
    "True and True is True.\n",
    "\n",
    "True and False is False.\n",
    "\n",
    "False and True is False.\n",
    "\n",
    "False and False is False.\n",
    "\n",
    "True or True is True.\n",
    "\n",
    "True or False is True.\n",
    "\n",
    "False or True is True.\n",
    "\n",
    "False or False is False.\n",
    "\n",
    "not True is False.\n",
    "\n",
    "not False is True."
   ]
  },
  {
   "cell_type": "markdown",
   "id": "71fd14de",
   "metadata": {},
   "source": [
    "# sol(4)\n",
    "\n",
    "1.False\n",
    "2.True\n",
    "3.False\n",
    "4.False\n",
    "5.True\n"
   ]
  },
  {
   "cell_type": "markdown",
   "id": "12e36f25",
   "metadata": {},
   "source": [
    "# sol(5)\n",
    "\n",
    "== , != , < , > , <= , and >="
   ]
  },
  {
   "cell_type": "markdown",
   "id": "9030e276",
   "metadata": {},
   "source": [
    "# sol(6)\n",
    "\n",
    "== is the equal to operator that compares two values and evaluates to a Boolean, while = is the assignment operator that stores a value in a variable."
   ]
  },
  {
   "cell_type": "code",
   "execution_count": 1,
   "id": "4c5362a2",
   "metadata": {},
   "outputs": [
    {
     "name": "stdout",
     "output_type": "stream",
     "text": [
      "False\n",
      "c = 1\n"
     ]
    }
   ],
   "source": [
    "if(2==3):\n",
    "    print(\"True\")\n",
    "else:\n",
    "    print(\"False\")\n",
    "#Assignment operator\n",
    "c=1 #here we have used assignment operator(=) to assign value of c which is 1\n",
    "print(\"c =\",c)"
   ]
  },
  {
   "cell_type": "markdown",
   "id": "c2bc40d0",
   "metadata": {},
   "source": [
    "# "
   ]
  }
 ],
 "metadata": {
  "kernelspec": {
   "display_name": "Python 3 (ipykernel)",
   "language": "python",
   "name": "python3"
  },
  "language_info": {
   "codemirror_mode": {
    "name": "ipython",
    "version": 3
   },
   "file_extension": ".py",
   "mimetype": "text/x-python",
   "name": "python",
   "nbconvert_exporter": "python",
   "pygments_lexer": "ipython3",
   "version": "3.11.4"
  }
 },
 "nbformat": 4,
 "nbformat_minor": 5
}
